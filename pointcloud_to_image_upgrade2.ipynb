{
 "cells": [
  {
   "cell_type": "code",
   "execution_count": 14,
   "metadata": {},
   "outputs": [],
   "source": [
    "import ipyvolume.pylab as p3\n",
    "import numpy\n",
    "import matplotlib.pyplot as plt"
   ]
  },
  {
   "cell_type": "code",
   "execution_count": 15,
   "metadata": {},
   "outputs": [
    {
     "name": "stdout",
     "output_type": "stream",
     "text": [
      "Loaded point cloud with dimensions (7117317, 6)\n"
     ]
    }
   ],
   "source": [
    "# Make sure the point cloud txt file has been imported\n",
    "pcd = numpy.loadtxt('Seb000.txt')\n",
    "print('Loaded point cloud with dimensions',pcd.shape)"
   ]
  },
  {
   "cell_type": "code",
   "execution_count": 16,
   "metadata": {},
   "outputs": [],
   "source": [
    "#Get the point coordinates\n",
    "x0 = numpy.array(pcd[:,0]) \n",
    "y0 = numpy.array(pcd[:,1])\n",
    "z0 = numpy.array(pcd[:,2])\n",
    "#Set positive or negative value of x0 to make sure the panorama picture continously\n",
    "x = numpy.arctan2(y0, -x0)\n",
    "y = numpy.arctan2(z0, numpy.sqrt(x0**2 + y0**2))\n",
    "z = numpy.zeros(len(x))\n",
    "#Calculate the Depth of each point\n",
    "depth = numpy.sqrt(x0**2 + y0**2 + z0**2)\n",
    "#Calculate the Intensity: 0.3*r+0.59*g+0.11*b\n",
    "intensity =numpy.array(0.3*pcd[:,3]+0.59*pcd[:,4]+0.11*pcd[:,5])\n",
    "rgb = pcd[:,3:6] / 255.0"
   ]
  },
  {
   "cell_type": "code",
   "execution_count": 17,
   "metadata": {},
   "outputs": [
    {
     "data": {
      "application/vnd.jupyter.widget-view+json": {
       "model_id": "cbba755ef2214338be2d54515613236a",
       "version_major": 2,
       "version_minor": 0
      },
      "text/plain": [
       "VBox(children=(Figure(camera=PerspectiveCamera(fov=46.0, position=(0.0, 0.0, 2.0), quaternion=(0.0, 0.0, 0.0, …"
      ]
     },
     "metadata": {},
     "output_type": "display_data"
    }
   ],
   "source": [
    "#Visualize the original 3D point cloud \n",
    "fig = p3.figure(width=1000,height=1000)\n",
    "p3.style.background_color('black')\n",
    "p3.scatter(x0, y0, z0, color=rgb, size=3, marker='point_2d')\n",
    "p3.style.axes_off()\n",
    "p3.style.box_off()\n",
    "x0range = x0.max() - x0.min()\n",
    "y0range = y0.max() - y0.min()\n",
    "z0range = z0.max() - z0.min()\n",
    "max0_range = max(x0range, y0range,z0range)\n",
    "x0min = (x0.min()+x0.max())/2 - max0_range/2\n",
    "x0max = (x0.min()+x0.max())/2 + max0_range/2\n",
    "y0min = (y0.min()+y0.max())/2 - max0_range/2\n",
    "y0max = (y0.min()+y0.max())/2 + max0_range/2\n",
    "z0min = (z0.min()+z0.max())/2 - max0_range/2\n",
    "z0max = (z0.min()+z0.max())/2 + max0_range/2\n",
    "p3.xlim(x0min,x0max)\n",
    "p3.ylim(y0min,y0max)\n",
    "p3.zlim(z0min,z0max)\n",
    "p3.show()"
   ]
  },
  {
   "cell_type": "code",
   "execution_count": 18,
   "metadata": {},
   "outputs": [
    {
     "data": {
      "application/vnd.jupyter.widget-view+json": {
       "model_id": "9508f48a8291426d98e45c7765805752",
       "version_major": 2,
       "version_minor": 0
      },
      "text/plain": [
       "VBox(children=(Figure(camera=PerspectiveCamera(fov=46.0, position=(0.0, 0.0, 2.0), quaternion=(0.0, 0.0, 0.0, …"
      ]
     },
     "metadata": {},
     "output_type": "display_data"
    }
   ],
   "source": [
    "#Visualize the panorama point cloud \n",
    "fig = p3.figure(width=1000,height=1000)\n",
    "p3.style.background_color('black')\n",
    "p3.scatter(x, y, z, color=rgb, size=3, marker='point_2d')\n",
    "p3.style.axes_off()\n",
    "p3.style.box_off()\n",
    "xrange = x.max() - x.min()\n",
    "yrange = y.max() - y.min()\n",
    "zrange = z.max() - z.min()\n",
    "max_range = max(xrange, yrange,zrange)\n",
    "xmin = (x.min()+x.max())/2 - max_range/2\n",
    "xmax = (x.min()+x.max())/2 + max_range/2\n",
    "ymin = (y.min()+y.max())/2 - max_range/2\n",
    "ymax = (y.min()+y.max())/2 + max_range/2\n",
    "zmin = (z.min()+z.max())/2 - max_range/2\n",
    "zmax = (z.min()+z.max())/2 + max_range/2\n",
    "p3.xlim(xmin,xmax)\n",
    "p3.ylim(ymin,ymax)\n",
    "p3.zlim(zmin,zmax)\n",
    "p3.show()"
   ]
  },
  {
   "cell_type": "code",
   "execution_count": null,
   "metadata": {},
   "outputs": [
    {
     "name": "stdout",
     "output_type": "stream",
     "text": [
      "width 500 height 611\n"
     ]
    }
   ],
   "source": [
    "#create a blank image\n",
    "width = 500\n",
    "height = int((y.max()-y.min()) / (x.max() - x.min()) * width)\n",
    "I_color = numpy.zeros((height, width, 3), dtype=numpy.uint8)\n",
    "I_depth = numpy.ones((height, width), dtype=float)\n",
    "I_intensity = numpy.zeros((height, width), dtype=float)\n",
    "print('width',width,'height',height)"
   ]
  },
  {
   "cell_type": "code",
   "execution_count": null,
   "metadata": {},
   "outputs": [
    {
     "name": "stdout",
     "output_type": "stream",
     "text": [
      "(7117317,)\n"
     ]
    }
   ],
   "source": [
    "#Convert the point cloud to a meshgrid \n",
    "image_x = ((x-x.min())/(x.max()-x.min()) * (width-1)).astype(int)\n",
    "image_y = ((y.max()-y)/(y.max()-y.min()) * (height-1)).astype(int)\n",
    "depth = (depth - depth.min()) / (depth.max() - depth.min())\n",
    "intensity = (intensity - intensity.min()) / (intensity.max() - intensity.min())\n",
    "print(depth.shape)"
   ]
  },
  {
   "cell_type": "code",
   "execution_count": null,
   "metadata": {},
   "outputs": [],
   "source": [
    "%%time\n",
    "#assign each point to a pixel\n",
    "for i in range(len(depth)):\n",
    "    I_depth[image_y[i], image_x[i]] = depth[i]\n",
    "    I_intensity[image_y[i], image_x[i]] = intensity[i]\n",
    "    I_color[image_y[i], image_x[i], :] = (rgb[i] * 255).astype(numpy.uint8)         "
   ]
  },
  {
   "cell_type": "code",
   "execution_count": null,
   "metadata": {
    "scrolled": true
   },
   "outputs": [],
   "source": [
    "#display the RGB image\n",
    "plt.rcParams['figure.figsize'] = (500,137)\n",
    "plt.imshow(I_color)"
   ]
  },
  {
   "cell_type": "code",
   "execution_count": null,
   "metadata": {},
   "outputs": [],
   "source": [
    "#display the depth image\n",
    "#I_depth = 1.0 - I_depth #reverse black and white color\n",
    "plt.imshow(I_depth, cmap='gray')"
   ]
  },
  {
   "cell_type": "code",
   "execution_count": null,
   "metadata": {},
   "outputs": [],
   "source": [
    "#display the intensity image\n",
    "plt.imshow(I_intensity, cmap='gray')"
   ]
  },
  {
   "cell_type": "code",
   "execution_count": null,
   "metadata": {},
   "outputs": [],
   "source": []
  },
  {
   "cell_type": "code",
   "execution_count": null,
   "metadata": {},
   "outputs": [],
   "source": []
  },
  {
   "cell_type": "code",
   "execution_count": null,
   "metadata": {},
   "outputs": [],
   "source": []
  },
  {
   "cell_type": "code",
   "execution_count": null,
   "metadata": {},
   "outputs": [],
   "source": []
  },
  {
   "cell_type": "code",
   "execution_count": null,
   "metadata": {},
   "outputs": [],
   "source": []
  },
  {
   "cell_type": "code",
   "execution_count": null,
   "metadata": {},
   "outputs": [],
   "source": []
  }
 ],
 "metadata": {
  "kernelspec": {
   "display_name": "Python 3",
   "language": "python",
   "name": "python3"
  },
  "language_info": {
   "codemirror_mode": {
    "name": "ipython",
    "version": 3
   },
   "file_extension": ".py",
   "mimetype": "text/x-python",
   "name": "python",
   "nbconvert_exporter": "python",
   "pygments_lexer": "ipython3",
   "version": "3.7.1"
  }
 },
 "nbformat": 4,
 "nbformat_minor": 2
}
